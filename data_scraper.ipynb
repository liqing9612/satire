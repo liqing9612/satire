{
 "cells": [
  {
   "cell_type": "code",
   "execution_count": 2,
   "metadata": {},
   "outputs": [],
   "source": [
    "from bs4 import BeautifulSoup\n",
    "import requests\n",
    "import urllib\n",
    "import json \n",
    "import unicodedata"
   ]
  },
  {
   "cell_type": "code",
   "execution_count": null,
   "metadata": {},
   "outputs": [],
   "source": [
    "def get_onion_image_url(link):\n",
    "    hdr = {'User-Agent': 'Mozilla/5.0'}  # Use firefox so no HTTP Error 403\n",
    "    r = requests.get(link, headers=hdr)\n",
    "    data = r.text  # Get the website source as text\n",
    "    soup = BeautifulSoup(data) # Setup a \"soup\" which BeautifulSoup can search\n",
    "    vals =  soup.findAll(attrs={\"name\":\"twitter:image\"})\n",
    "    for v in vals:\n",
    "#         make sure that the image is not the onion's logo\n",
    "        if v[\"content\"] not in (\"https://x.kinja-static.com/assets/images/logos/placeholders/theonion.png\", ):\n",
    "            return v[\"content\"]"
   ]
  },
  {
   "cell_type": "code",
   "execution_count": null,
   "metadata": {},
   "outputs": [],
   "source": [
    "def get_hp_image_url(link):\n",
    "    hdr = {'User-Agent': 'Mozilla/5.0'}\n",
    "    r = requests.get(link, headers=hdr)\n",
    "    data = r.text  #Get the website source as text\n",
    "    soup = BeautifulSoup(data) #Setup a \"soup\" which BeautifulSoup can search\n",
    "    vals = soup.findAll(attrs={\"property\":\"og:image:url\"})\n",
    "    for v in vals:\n",
    "#         make sure that the image is not the huffpost's logo\n",
    "        if v[\"content\"] not in (\"https://img.huffingtonpost.com/asset/default-entry.jpg?ops=1778_1000\"):\n",
    "            return v[\"content\"]"
   ]
  },
  {
   "cell_type": "code",
   "execution_count": null,
   "metadata": {},
   "outputs": [],
   "source": [
    "# download article images\n",
    "with open('Sarcasm_Headlines_Dataset_v2.json', 'r') as handle:\n",
    "    json_data = [json.loads(line) for line in handle]\n",
    "    for i, d in enumerate(json_data):\n",
    "        try:\n",
    "            link = d[\"article_link\"]\n",
    "            if d[\"is_sarcastic\"] == 1:\n",
    "                image_link = get_onion_image_url(link)\n",
    "                urllib.request.urlretrieve(image_link, \"satire_images/\" + str(i) + \".jpg\")\n",
    "            else:\n",
    "                image_link = get_hp_image_url(link)\n",
    "                urllib.request.urlretrieve(image_link, \"serious_images/\" + str(i) + \".jpg\")\n",
    "            json_data[i][\"has_image\"] = True\n",
    "        except:\n",
    "            json_data[i][\"has_image\"] = False\n",
    "\n",
    "with open(\"dataset_with_images_fulltext\", \"w\") as outfile: \n",
    "    json.dump(json_data, outfile)\n",
    "    "
   ]
  },
  {
   "cell_type": "code",
   "execution_count": 5,
   "metadata": {},
   "outputs": [],
   "source": [
    "# download article body text\n",
    "with open(\"dataset_with_images_fulltext.json\", \"r\") as handle:\n",
    "    json_data = json.load(handle)\n",
    "    for i, d in enumerate(json_data):\n",
    "        try:\n",
    "            link = d[\"article_link\"]\n",
    "            r = requests.get(link, headers={'User-Agent': 'Mozilla/5.0'})\n",
    "            data = r.text  \n",
    "            soup = BeautifulSoup(data) \n",
    "            body_text = \"\"\n",
    "            for content in soup.findAll('p'):  # Find content in paragraphs\n",
    "                body_text += content.text + \"\\n\"\n",
    "            json_data[i][\"text\"] = unicodedata.normalize(\"NFKD\", body_text)\n",
    "        except:\n",
    "            json_data[i][\"text\"] = \"\"\n",
    "        \n",
    "with open(\"dataset_with_images_fulltext.json\", \"w\", encoding=\"utf-8\") as outfile: \n",
    "    json.dump(json_data, outfile, ensure_ascii=False)\n",
    "    "
   ]
  }
 ],
 "metadata": {
  "kernelspec": {
   "display_name": "Python 3",
   "language": "python",
   "name": "python3"
  },
  "language_info": {
   "codemirror_mode": {
    "name": "ipython",
    "version": 3
   },
   "file_extension": ".py",
   "mimetype": "text/x-python",
   "name": "python",
   "nbconvert_exporter": "python",
   "pygments_lexer": "ipython3",
   "version": "3.7.3"
  }
 },
 "nbformat": 4,
 "nbformat_minor": 2
}
