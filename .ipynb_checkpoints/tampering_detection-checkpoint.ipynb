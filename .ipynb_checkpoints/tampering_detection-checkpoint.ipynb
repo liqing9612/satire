{
 "cells": [
  {
   "cell_type": "code",
   "execution_count": 1,
   "metadata": {
    "colab": {
     "base_uri": "https://localhost:8080/",
     "height": 34
    },
    "colab_type": "code",
    "id": "mM8IRt_1_mYH",
    "outputId": "76f4f00c-6af4-4610-f147-c09290c7ac5f"
   },
   "outputs": [
    {
     "name": "stderr",
     "output_type": "stream",
     "text": [
      "Using TensorFlow backend.\n"
     ]
    }
   ],
   "source": [
    "import numpy as np\n",
    "import tensorflow as tf\n",
    "import tensorflow_addons as tfa\n",
    "from tensorflow.keras import layers\n",
    "from tensorflow.keras.layers import BatchNormalization, Input, Add, Dense, Flatten, Conv2D, MaxPooling2D, Dropout\n",
    "from tensorflow.keras.regularizers import l2\n",
    "from tensorflow.keras.models import Model, load_model\n",
    "from tensorflow.keras.preprocessing import image\n",
    "from keras.utils import layer_utils\n",
    "from keras.utils.data_utils import get_file\n",
    "from tensorflow.keras.applications.imagenet_utils import preprocess_input\n",
    "import pydot\n",
    "from IPython.display import SVG\n",
    "from keras.utils.vis_utils import model_to_dot\n",
    "from tensorflow.keras.utils import plot_model\n",
    "from tensorflow.keras.initializers import glorot_uniform\n",
    "import scipy.misc\n",
    "from matplotlib.pyplot import imshow\n",
    "%matplotlib inline\n",
    "\n",
    "import keras.backend as K\n",
    "K.set_image_data_format('channels_last')\n",
    "K.set_learning_phase(1)"
   ]
  },
  {
   "cell_type": "code",
   "execution_count": null,
   "metadata": {
    "raw_mimetype": "text/x-python"
   },
   "outputs": [],
   "source": [
    "## Uncomment to convert images to ELA\n",
    "\n",
    "# from PIL import Image\n",
    "# import os\n",
    "# from pylab import *\n",
    "# import re\n",
    "# from PIL import Image, ImageChops, ImageEnhance\n",
    "\n",
    "# def convert_to_ela_image(path, quality):\n",
    "#     filename = path\n",
    "#     resaved_filename = filename.split('.')[0] + '.resaved.jpg'\n",
    "#     ELA_filename = filename.split('.')[0] + '.ela.png'\n",
    "    \n",
    "#     im = Image.open(filename).convert('RGB')\n",
    "#     im.save(resaved_filename, 'JPEG', quality=quality)\n",
    "#     resaved_im = Image.open(resaved_filename)\n",
    "    \n",
    "#     ela_im = ImageChops.difference(im, resaved_im)\n",
    "    \n",
    "#     extrema = ela_im.getextrema()\n",
    "#     max_diff = max([ex[1] for ex in extrema])\n",
    "#     if max_diff == 0:\n",
    "#         max_diff = 1\n",
    "#     scale = 255.0 / max_diff\n",
    "    \n",
    "#     ela_im = ImageEnhance.Brightness(ela_im).enhance(scale)\n",
    "    \n",
    "#     os.remove(resaved_filename)\n",
    "    \n",
    "#     return ela_im\n",
    "\n",
    "# for directory in (r\"data\\CASIA\\CASIA_rgb\\Au\", r\"data\\CASIA\\CASIA_rgb\\Tp\"):\n",
    "#     for filename in os.listdir(directory):\n",
    "#         if filename.endswith(\".jpg\"):\n",
    "#             file_path = os.path.join(directory, filename)\n",
    "#             pil_image = convert_to_ela_image(file_path, 90)\n",
    "#             pil_image.save(\"data\\CASIA\\CASIA_ela\\\" + directory.split(\"\\\\\")[-1] + \"\\\\\" + filename.split(\".\")[0] + \".png\", format=\"PNG\")"
   ]
  },
  {
   "cell_type": "code",
   "execution_count": 12,
   "metadata": {},
   "outputs": [],
   "source": [
    "batch_size = 32\n",
    "generator = tf.keras.preprocessing.image.ImageDataGenerator(validation_split=0.2, rescale = 1./255, horizontal_flip = True)\n",
    "\n",
    "\n",
    "def generate_generator_multiple(subset):\n",
    "    gen_ela = generator.flow_from_directory(r\"data\\CASIA\\CASIA_ela\",\n",
    "                                          target_size = (128,128),\n",
    "                                          class_mode = 'categorical', \n",
    "                                          interpolation = 'nearest',\n",
    "                                          batch_size = batch_size,\n",
    "                                          subset = subset)\n",
    "    \n",
    "    gen_rgb = generator.flow_from_directory(r\"data\\CASIA\\CASIA_ela\",\n",
    "                                          target_size = (128,128),\n",
    "                                          class_mode = 'categorical',\n",
    "                                          interpolation = 'bicubic',\n",
    "                                          batch_size = batch_size,\n",
    "                                          subset = subset)\n",
    "    while True:\n",
    "            elai = gen_ela.next()\n",
    "            rgbi = gen_rgb.next()\n",
    "            yield [elai[0], rgbi[0]], elai[1]  #Yield both images and their mutual label\n",
    "            \n",
    "            \n",
    "train_generator=generate_generator_multiple(subset=\"training\") \n",
    "val_generator=generate_generator_multiple(subset=\"validation\") "
   ]
  },
  {
   "cell_type": "code",
   "execution_count": 14,
   "metadata": {},
   "outputs": [],
   "source": [
    "inputs, outputs = next(val_generator)"
   ]
  },
  {
   "cell_type": "code",
   "execution_count": 15,
   "metadata": {
    "colab": {},
    "colab_type": "code",
    "id": "QNIJqQt8_7by"
   },
   "outputs": [],
   "source": [
    "def ELA_CNN(input_shape=(128,128,3)):\n",
    "    ela_input = Input(input_shape, name=\"ela\")\n",
    "    rgb_input = Input(input_shape, name=\"rbg\")\n",
    "    \n",
    "    ###################################################\n",
    "    ela = Conv2D(32, (5,5), padding=\"valid\", activation=tf.nn.leaky_relu, name=\"conv1_1\")(ela_input)\n",
    "    ela = MaxPooling2D(pool_size=(2,2), strides=(2,2), name=\"max_pool1_1\")(ela)\n",
    "    \n",
    "    ela = Conv2D(32, (5,5), padding=\"valid\", activation=tf.nn.leaky_relu, name=\"conv1_2\")(ela)\n",
    "    ela = MaxPooling2D(pool_size=(2,2), strides=(2,2), name=\"max_pool1_2\")(ela)\n",
    "    ela = Dropout(0.25, name=\"dropout1_1\")(ela)\n",
    "    ##########################################################\n",
    "    rgb = Conv2D(32, (5,5), padding=\"valid\", activation=tf.nn.leaky_relu, name=\"conv2_1\")(rgb_input)\n",
    "    rgb = MaxPooling2D(pool_size=(2,2), strides=(2,2), name=\"max_pool2_1\")(rgb)\n",
    "    \n",
    "    rgb = Conv2D(32, (5,5), padding=\"valid\", activation=tf.nn.leaky_relu, name=\"conv2_2\")(rgb)\n",
    "    rgb = MaxPooling2D(pool_size=(2,2), strides=(2,2), name=\"max_pool2_2\")(rgb)\n",
    "    rgb = Dropout(0.25, name=\"dropout2_1\")(rgb)\n",
    "    ###########################################################\n",
    "    X = Add()([ela,rgb])\n",
    "    X = Flatten()(X)\n",
    "    X = Dense(256, activation=tf.nn.leaky_relu, name=\"fc1\", kernel_regularizer=l2(0.0005), bias_regularizer=l2(0.0005))(X)\n",
    "    \n",
    "    X = Dropout(0.5, name=\"dropout2\")(X)\n",
    "    X = Dense(2, activation=\"softmax\", name=\"fc2\")(X)\n",
    "    \n",
    "    model = tf.keras.Model(inputs=[ela_input, rgb_input], outputs=X)\n",
    "    \n",
    "    return model"
   ]
  },
  {
   "cell_type": "code",
   "execution_count": 16,
   "metadata": {
    "colab": {},
    "colab_type": "code",
    "id": "fXb7FRMP_-Pm"
   },
   "outputs": [],
   "source": [
    "model = ELA_CNN()"
   ]
  },
  {
   "cell_type": "code",
   "execution_count": 17,
   "metadata": {
    "colab": {
     "base_uri": "https://localhost:8080/",
     "height": 474
    },
    "colab_type": "code",
    "id": "Cn0nyb5rylrx",
    "outputId": "2d2ebd8a-9ded-4541-9d8b-fb9c980cce14"
   },
   "outputs": [
    {
     "name": "stdout",
     "output_type": "stream",
     "text": [
      "Model: \"model_1\"\n",
      "__________________________________________________________________________________________________\n",
      "Layer (type)                    Output Shape         Param #     Connected to                     \n",
      "==================================================================================================\n",
      "ela (InputLayer)                [(None, 128, 128, 3) 0                                            \n",
      "__________________________________________________________________________________________________\n",
      "rbg (InputLayer)                [(None, 128, 128, 3) 0                                            \n",
      "__________________________________________________________________________________________________\n",
      "conv1_1 (Conv2D)                (None, 124, 124, 32) 2432        ela[0][0]                        \n",
      "__________________________________________________________________________________________________\n",
      "conv2_1 (Conv2D)                (None, 124, 124, 32) 2432        rbg[0][0]                        \n",
      "__________________________________________________________________________________________________\n",
      "max_pool1_1 (MaxPooling2D)      (None, 62, 62, 32)   0           conv1_1[0][0]                    \n",
      "__________________________________________________________________________________________________\n",
      "max_pool2_1 (MaxPooling2D)      (None, 62, 62, 32)   0           conv2_1[0][0]                    \n",
      "__________________________________________________________________________________________________\n",
      "conv1_2 (Conv2D)                (None, 58, 58, 32)   25632       max_pool1_1[0][0]                \n",
      "__________________________________________________________________________________________________\n",
      "conv2_2 (Conv2D)                (None, 58, 58, 32)   25632       max_pool2_1[0][0]                \n",
      "__________________________________________________________________________________________________\n",
      "max_pool1_2 (MaxPooling2D)      (None, 29, 29, 32)   0           conv1_2[0][0]                    \n",
      "__________________________________________________________________________________________________\n",
      "max_pool2_2 (MaxPooling2D)      (None, 29, 29, 32)   0           conv2_2[0][0]                    \n",
      "__________________________________________________________________________________________________\n",
      "dropout1_1 (Dropout)            (None, 29, 29, 32)   0           max_pool1_2[0][0]                \n",
      "__________________________________________________________________________________________________\n",
      "dropout2_1 (Dropout)            (None, 29, 29, 32)   0           max_pool2_2[0][0]                \n",
      "__________________________________________________________________________________________________\n",
      "add_1 (Add)                     (None, 29, 29, 32)   0           dropout1_1[0][0]                 \n",
      "                                                                 dropout2_1[0][0]                 \n",
      "__________________________________________________________________________________________________\n",
      "flatten_1 (Flatten)             (None, 26912)        0           add_1[0][0]                      \n",
      "__________________________________________________________________________________________________\n",
      "fc1 (Dense)                     (None, 256)          6889728     flatten_1[0][0]                  \n",
      "__________________________________________________________________________________________________\n",
      "dropout2 (Dropout)              (None, 256)          0           fc1[0][0]                        \n",
      "__________________________________________________________________________________________________\n",
      "fc2 (Dense)                     (None, 2)            514         dropout2[0][0]                   \n",
      "==================================================================================================\n",
      "Total params: 6,946,370\n",
      "Trainable params: 6,946,370\n",
      "Non-trainable params: 0\n",
      "__________________________________________________________________________________________________\n"
     ]
    }
   ],
   "source": [
    "model.summary()"
   ]
  },
  {
   "cell_type": "code",
   "execution_count": 18,
   "metadata": {
    "colab": {},
    "colab_type": "code",
    "id": "m0MDEtYJIf1x"
   },
   "outputs": [],
   "source": [
    "# model.compile(optimizer=tf.keras.optimizers.SGD(lr=1e-6, momentum=0.9, decay=0.0005), loss='binary_crossentropy', metrics=['accuracy'])\n",
    "model.compile(optimizer=tf.keras.optimizers.Adam(lr=0.001), loss='categorical_crossentropy', metrics=['accuracy'])"
   ]
  },
  {
   "cell_type": "code",
   "execution_count": 19,
   "metadata": {
    "colab": {},
    "colab_type": "code",
    "id": "CAKVj7zqz81q"
   },
   "outputs": [],
   "source": [
    "early_stopping = tf.keras.callbacks.EarlyStopping(monitor='val_loss',\n",
    "                              min_delta=0,\n",
    "                              patience=5,\n",
    "                              verbose=0, mode='auto')"
   ]
  },
  {
   "cell_type": "code",
   "execution_count": 20,
   "metadata": {
    "colab": {
     "base_uri": "https://localhost:8080/",
     "height": 142
    },
    "colab_type": "code",
    "id": "Q33DafDYF9C1",
    "outputId": "607a94d9-66c2-4cf7-e733-6299cc8a68ac"
   },
   "outputs": [
    {
     "name": "stdout",
     "output_type": "stream",
     "text": [
      "Found 10049 images belonging to 2 classes.\n",
      "Found 10049 images belonging to 2 classes.\n",
      "Epoch 1/150\n",
      "314/314 [==============================] - 82s 260ms/step - loss: 0.8486 - accuracy: 0.6516 - val_loss: 0.7218 - val_accuracy: 0.6152\n",
      "Epoch 2/150\n",
      "314/314 [==============================] - 95s 301ms/step - loss: 0.6104 - accuracy: 0.7006 - val_loss: 0.6195 - val_accuracy: 0.7253\n",
      "Epoch 3/150\n",
      "314/314 [==============================] - 85s 271ms/step - loss: 0.6117 - accuracy: 0.7096 - val_loss: 0.5868 - val_accuracy: 0.7410\n",
      "Epoch 4/150\n",
      "314/314 [==============================] - 83s 264ms/step - loss: 0.5742 - accuracy: 0.7275 - val_loss: 0.6233 - val_accuracy: 0.7067\n",
      "Epoch 5/150\n",
      "314/314 [==============================] - 84s 268ms/step - loss: 0.5761 - accuracy: 0.7339 - val_loss: 0.5943 - val_accuracy: 0.7301\n",
      "Epoch 6/150\n",
      "314/314 [==============================] - 83s 264ms/step - loss: 0.5752 - accuracy: 0.7465 - val_loss: 0.6481 - val_accuracy: 0.7132\n",
      "Epoch 7/150\n",
      "314/314 [==============================] - 83s 263ms/step - loss: 0.5943 - accuracy: 0.7612 - val_loss: 0.6900 - val_accuracy: 0.7132\n",
      "Epoch 8/150\n",
      "314/314 [==============================] - 83s 264ms/step - loss: 0.6023 - accuracy: 0.7784 - val_loss: 0.6624 - val_accuracy: 0.7463\n",
      "Epoch 9/150\n",
      "314/314 [==============================] - 83s 264ms/step - loss: 0.6747 - accuracy: 0.7639 - val_loss: 0.6596 - val_accuracy: 0.7584\n",
      "Epoch 10/150\n",
      "314/314 [==============================] - 84s 266ms/step - loss: 0.5870 - accuracy: 0.7997 - val_loss: 0.6362 - val_accuracy: 0.7628\n",
      "Epoch 11/150\n",
      "314/314 [==============================] - 83s 264ms/step - loss: 0.5813 - accuracy: 0.8136 - val_loss: 0.6401 - val_accuracy: 0.7927\n",
      "Epoch 12/150\n",
      "314/314 [==============================] - 82s 261ms/step - loss: 0.5802 - accuracy: 0.8225 - val_loss: 0.6921 - val_accuracy: 0.7858\n",
      "Epoch 13/150\n",
      "314/314 [==============================] - 80s 253ms/step - loss: 0.6094 - accuracy: 0.8326 - val_loss: 0.7059 - val_accuracy: 0.7822\n",
      "Epoch 14/150\n",
      "314/314 [==============================] - 80s 255ms/step - loss: 0.6326 - accuracy: 0.8345 - val_loss: 0.7172 - val_accuracy: 0.7846\n",
      "Epoch 15/150\n",
      "314/314 [==============================] - 81s 258ms/step - loss: 0.5994 - accuracy: 0.8504 - val_loss: 0.8572 - val_accuracy: 0.7200\n",
      "Epoch 16/150\n",
      "314/314 [==============================] - 81s 259ms/step - loss: 0.5887 - accuracy: 0.8629 - val_loss: 0.6936 - val_accuracy: 0.8044\n",
      "Epoch 17/150\n",
      "314/314 [==============================] - 83s 263ms/step - loss: 0.5623 - accuracy: 0.8739 - val_loss: 0.6971 - val_accuracy: 0.8011\n",
      "Epoch 18/150\n",
      "314/314 [==============================] - 83s 265ms/step - loss: 0.5993 - accuracy: 0.8718 - val_loss: 0.7283 - val_accuracy: 0.8205\n",
      "Epoch 19/150\n",
      "314/314 [==============================] - 82s 262ms/step - loss: 0.5211 - accuracy: 0.8977 - val_loss: 0.6982 - val_accuracy: 0.8229\n",
      "Epoch 20/150\n",
      "314/314 [==============================] - 80s 254ms/step - loss: 0.5181 - accuracy: 0.8988 - val_loss: 0.7389 - val_accuracy: 0.8169\n",
      "Epoch 21/150\n",
      "314/314 [==============================] - 80s 255ms/step - loss: 0.5631 - accuracy: 0.8937 - val_loss: 0.7681 - val_accuracy: 0.8035\n",
      "Epoch 22/150\n",
      "314/314 [==============================] - 83s 263ms/step - loss: 0.5259 - accuracy: 0.9086 - val_loss: 0.7879 - val_accuracy: 0.8035\n",
      "Epoch 23/150\n",
      "314/314 [==============================] - 83s 265ms/step - loss: 0.5291 - accuracy: 0.9143 - val_loss: 0.8843 - val_accuracy: 0.7769\n",
      "Epoch 24/150\n",
      "314/314 [==============================] - 84s 266ms/step - loss: 0.5170 - accuracy: 0.9183 - val_loss: 0.7631 - val_accuracy: 0.8197\n",
      "Epoch 25/150\n",
      "314/314 [==============================] - 85s 269ms/step - loss: 0.5116 - accuracy: 0.9235 - val_loss: 0.7723 - val_accuracy: 0.8225\n",
      "Epoch 26/150\n",
      "  7/314 [..............................] - ETA: 59s - loss: 0.5385 - accuracy: 0.9107"
     ]
    },
    {
     "ename": "KeyboardInterrupt",
     "evalue": "",
     "output_type": "error",
     "traceback": [
      "\u001b[1;31m---------------------------------------------------------------------------\u001b[0m",
      "\u001b[1;31mKeyboardInterrupt\u001b[0m                         Traceback (most recent call last)",
      "\u001b[1;32m<ipython-input-20-63b37cdc7f88>\u001b[0m in \u001b[0;36m<module>\u001b[1;34m\u001b[0m\n\u001b[0;32m      5\u001b[0m           \u001b[0mvalidation_data\u001b[0m\u001b[1;33m=\u001b[0m\u001b[0mval_generator\u001b[0m\u001b[1;33m,\u001b[0m\u001b[1;33m\u001b[0m\u001b[1;33m\u001b[0m\u001b[0m\n\u001b[0;32m      6\u001b[0m           \u001b[0msteps_per_epoch\u001b[0m\u001b[1;33m=\u001b[0m\u001b[1;36m10049\u001b[0m\u001b[1;33m//\u001b[0m\u001b[0mbatch_size\u001b[0m\u001b[1;33m,\u001b[0m\u001b[1;33m\u001b[0m\u001b[1;33m\u001b[0m\u001b[0m\n\u001b[1;32m----> 7\u001b[1;33m           \u001b[0mvalidation_steps\u001b[0m\u001b[1;33m=\u001b[0m\u001b[1;36m2511\u001b[0m\u001b[1;33m//\u001b[0m\u001b[0mbatch_size\u001b[0m\u001b[1;33m\u001b[0m\u001b[1;33m\u001b[0m\u001b[0m\n\u001b[0m\u001b[0;32m      8\u001b[0m          )\n",
      "\u001b[1;32m~\\Anaconda3\\lib\\site-packages\\tensorflow\\python\\keras\\engine\\training.py\u001b[0m in \u001b[0;36m_method_wrapper\u001b[1;34m(self, *args, **kwargs)\u001b[0m\n\u001b[0;32m     64\u001b[0m   \u001b[1;32mdef\u001b[0m \u001b[0m_method_wrapper\u001b[0m\u001b[1;33m(\u001b[0m\u001b[0mself\u001b[0m\u001b[1;33m,\u001b[0m \u001b[1;33m*\u001b[0m\u001b[0margs\u001b[0m\u001b[1;33m,\u001b[0m \u001b[1;33m**\u001b[0m\u001b[0mkwargs\u001b[0m\u001b[1;33m)\u001b[0m\u001b[1;33m:\u001b[0m\u001b[1;33m\u001b[0m\u001b[1;33m\u001b[0m\u001b[0m\n\u001b[0;32m     65\u001b[0m     \u001b[1;32mif\u001b[0m \u001b[1;32mnot\u001b[0m \u001b[0mself\u001b[0m\u001b[1;33m.\u001b[0m\u001b[0m_in_multi_worker_mode\u001b[0m\u001b[1;33m(\u001b[0m\u001b[1;33m)\u001b[0m\u001b[1;33m:\u001b[0m  \u001b[1;31m# pylint: disable=protected-access\u001b[0m\u001b[1;33m\u001b[0m\u001b[1;33m\u001b[0m\u001b[0m\n\u001b[1;32m---> 66\u001b[1;33m       \u001b[1;32mreturn\u001b[0m \u001b[0mmethod\u001b[0m\u001b[1;33m(\u001b[0m\u001b[0mself\u001b[0m\u001b[1;33m,\u001b[0m \u001b[1;33m*\u001b[0m\u001b[0margs\u001b[0m\u001b[1;33m,\u001b[0m \u001b[1;33m**\u001b[0m\u001b[0mkwargs\u001b[0m\u001b[1;33m)\u001b[0m\u001b[1;33m\u001b[0m\u001b[1;33m\u001b[0m\u001b[0m\n\u001b[0m\u001b[0;32m     67\u001b[0m \u001b[1;33m\u001b[0m\u001b[0m\n\u001b[0;32m     68\u001b[0m     \u001b[1;31m# Running inside `run_distribute_coordinator` already.\u001b[0m\u001b[1;33m\u001b[0m\u001b[1;33m\u001b[0m\u001b[1;33m\u001b[0m\u001b[0m\n",
      "\u001b[1;32m~\\Anaconda3\\lib\\site-packages\\tensorflow\\python\\keras\\engine\\training.py\u001b[0m in \u001b[0;36mfit\u001b[1;34m(self, x, y, batch_size, epochs, verbose, callbacks, validation_split, validation_data, shuffle, class_weight, sample_weight, initial_epoch, steps_per_epoch, validation_steps, validation_batch_size, validation_freq, max_queue_size, workers, use_multiprocessing)\u001b[0m\n\u001b[0;32m    846\u001b[0m                 batch_size=batch_size):\n\u001b[0;32m    847\u001b[0m               \u001b[0mcallbacks\u001b[0m\u001b[1;33m.\u001b[0m\u001b[0mon_train_batch_begin\u001b[0m\u001b[1;33m(\u001b[0m\u001b[0mstep\u001b[0m\u001b[1;33m)\u001b[0m\u001b[1;33m\u001b[0m\u001b[1;33m\u001b[0m\u001b[0m\n\u001b[1;32m--> 848\u001b[1;33m               \u001b[0mtmp_logs\u001b[0m \u001b[1;33m=\u001b[0m \u001b[0mtrain_function\u001b[0m\u001b[1;33m(\u001b[0m\u001b[0miterator\u001b[0m\u001b[1;33m)\u001b[0m\u001b[1;33m\u001b[0m\u001b[1;33m\u001b[0m\u001b[0m\n\u001b[0m\u001b[0;32m    849\u001b[0m               \u001b[1;31m# Catch OutOfRangeError for Datasets of unknown size.\u001b[0m\u001b[1;33m\u001b[0m\u001b[1;33m\u001b[0m\u001b[1;33m\u001b[0m\u001b[0m\n\u001b[0;32m    850\u001b[0m               \u001b[1;31m# This blocks until the batch has finished executing.\u001b[0m\u001b[1;33m\u001b[0m\u001b[1;33m\u001b[0m\u001b[1;33m\u001b[0m\u001b[0m\n",
      "\u001b[1;32m~\\Anaconda3\\lib\\site-packages\\tensorflow\\python\\eager\\def_function.py\u001b[0m in \u001b[0;36m__call__\u001b[1;34m(self, *args, **kwds)\u001b[0m\n\u001b[0;32m    578\u001b[0m         \u001b[0mxla_context\u001b[0m\u001b[1;33m.\u001b[0m\u001b[0mExit\u001b[0m\u001b[1;33m(\u001b[0m\u001b[1;33m)\u001b[0m\u001b[1;33m\u001b[0m\u001b[1;33m\u001b[0m\u001b[0m\n\u001b[0;32m    579\u001b[0m     \u001b[1;32melse\u001b[0m\u001b[1;33m:\u001b[0m\u001b[1;33m\u001b[0m\u001b[1;33m\u001b[0m\u001b[0m\n\u001b[1;32m--> 580\u001b[1;33m       \u001b[0mresult\u001b[0m \u001b[1;33m=\u001b[0m \u001b[0mself\u001b[0m\u001b[1;33m.\u001b[0m\u001b[0m_call\u001b[0m\u001b[1;33m(\u001b[0m\u001b[1;33m*\u001b[0m\u001b[0margs\u001b[0m\u001b[1;33m,\u001b[0m \u001b[1;33m**\u001b[0m\u001b[0mkwds\u001b[0m\u001b[1;33m)\u001b[0m\u001b[1;33m\u001b[0m\u001b[1;33m\u001b[0m\u001b[0m\n\u001b[0m\u001b[0;32m    581\u001b[0m \u001b[1;33m\u001b[0m\u001b[0m\n\u001b[0;32m    582\u001b[0m     \u001b[1;32mif\u001b[0m \u001b[0mtracing_count\u001b[0m \u001b[1;33m==\u001b[0m \u001b[0mself\u001b[0m\u001b[1;33m.\u001b[0m\u001b[0m_get_tracing_count\u001b[0m\u001b[1;33m(\u001b[0m\u001b[1;33m)\u001b[0m\u001b[1;33m:\u001b[0m\u001b[1;33m\u001b[0m\u001b[1;33m\u001b[0m\u001b[0m\n",
      "\u001b[1;32m~\\Anaconda3\\lib\\site-packages\\tensorflow\\python\\eager\\def_function.py\u001b[0m in \u001b[0;36m_call\u001b[1;34m(self, *args, **kwds)\u001b[0m\n\u001b[0;32m    609\u001b[0m       \u001b[1;31m# In this case we have created variables on the first call, so we run the\u001b[0m\u001b[1;33m\u001b[0m\u001b[1;33m\u001b[0m\u001b[1;33m\u001b[0m\u001b[0m\n\u001b[0;32m    610\u001b[0m       \u001b[1;31m# defunned version which is guaranteed to never create variables.\u001b[0m\u001b[1;33m\u001b[0m\u001b[1;33m\u001b[0m\u001b[1;33m\u001b[0m\u001b[0m\n\u001b[1;32m--> 611\u001b[1;33m       \u001b[1;32mreturn\u001b[0m \u001b[0mself\u001b[0m\u001b[1;33m.\u001b[0m\u001b[0m_stateless_fn\u001b[0m\u001b[1;33m(\u001b[0m\u001b[1;33m*\u001b[0m\u001b[0margs\u001b[0m\u001b[1;33m,\u001b[0m \u001b[1;33m**\u001b[0m\u001b[0mkwds\u001b[0m\u001b[1;33m)\u001b[0m  \u001b[1;31m# pylint: disable=not-callable\u001b[0m\u001b[1;33m\u001b[0m\u001b[1;33m\u001b[0m\u001b[0m\n\u001b[0m\u001b[0;32m    612\u001b[0m     \u001b[1;32melif\u001b[0m \u001b[0mself\u001b[0m\u001b[1;33m.\u001b[0m\u001b[0m_stateful_fn\u001b[0m \u001b[1;32mis\u001b[0m \u001b[1;32mnot\u001b[0m \u001b[1;32mNone\u001b[0m\u001b[1;33m:\u001b[0m\u001b[1;33m\u001b[0m\u001b[1;33m\u001b[0m\u001b[0m\n\u001b[0;32m    613\u001b[0m       \u001b[1;31m# Release the lock early so that multiple threads can perform the call\u001b[0m\u001b[1;33m\u001b[0m\u001b[1;33m\u001b[0m\u001b[1;33m\u001b[0m\u001b[0m\n",
      "\u001b[1;32m~\\Anaconda3\\lib\\site-packages\\tensorflow\\python\\eager\\function.py\u001b[0m in \u001b[0;36m__call__\u001b[1;34m(self, *args, **kwargs)\u001b[0m\n\u001b[0;32m   2418\u001b[0m     \u001b[1;32mwith\u001b[0m \u001b[0mself\u001b[0m\u001b[1;33m.\u001b[0m\u001b[0m_lock\u001b[0m\u001b[1;33m:\u001b[0m\u001b[1;33m\u001b[0m\u001b[1;33m\u001b[0m\u001b[0m\n\u001b[0;32m   2419\u001b[0m       \u001b[0mgraph_function\u001b[0m\u001b[1;33m,\u001b[0m \u001b[0margs\u001b[0m\u001b[1;33m,\u001b[0m \u001b[0mkwargs\u001b[0m \u001b[1;33m=\u001b[0m \u001b[0mself\u001b[0m\u001b[1;33m.\u001b[0m\u001b[0m_maybe_define_function\u001b[0m\u001b[1;33m(\u001b[0m\u001b[0margs\u001b[0m\u001b[1;33m,\u001b[0m \u001b[0mkwargs\u001b[0m\u001b[1;33m)\u001b[0m\u001b[1;33m\u001b[0m\u001b[1;33m\u001b[0m\u001b[0m\n\u001b[1;32m-> 2420\u001b[1;33m     \u001b[1;32mreturn\u001b[0m \u001b[0mgraph_function\u001b[0m\u001b[1;33m.\u001b[0m\u001b[0m_filtered_call\u001b[0m\u001b[1;33m(\u001b[0m\u001b[0margs\u001b[0m\u001b[1;33m,\u001b[0m \u001b[0mkwargs\u001b[0m\u001b[1;33m)\u001b[0m  \u001b[1;31m# pylint: disable=protected-access\u001b[0m\u001b[1;33m\u001b[0m\u001b[1;33m\u001b[0m\u001b[0m\n\u001b[0m\u001b[0;32m   2421\u001b[0m \u001b[1;33m\u001b[0m\u001b[0m\n\u001b[0;32m   2422\u001b[0m   \u001b[1;33m@\u001b[0m\u001b[0mproperty\u001b[0m\u001b[1;33m\u001b[0m\u001b[1;33m\u001b[0m\u001b[0m\n",
      "\u001b[1;32m~\\Anaconda3\\lib\\site-packages\\tensorflow\\python\\eager\\function.py\u001b[0m in \u001b[0;36m_filtered_call\u001b[1;34m(self, args, kwargs)\u001b[0m\n\u001b[0;32m   1663\u001b[0m          if isinstance(t, (ops.Tensor,\n\u001b[0;32m   1664\u001b[0m                            resource_variable_ops.BaseResourceVariable))),\n\u001b[1;32m-> 1665\u001b[1;33m         self.captured_inputs)\n\u001b[0m\u001b[0;32m   1666\u001b[0m \u001b[1;33m\u001b[0m\u001b[0m\n\u001b[0;32m   1667\u001b[0m   \u001b[1;32mdef\u001b[0m \u001b[0m_call_flat\u001b[0m\u001b[1;33m(\u001b[0m\u001b[0mself\u001b[0m\u001b[1;33m,\u001b[0m \u001b[0margs\u001b[0m\u001b[1;33m,\u001b[0m \u001b[0mcaptured_inputs\u001b[0m\u001b[1;33m,\u001b[0m \u001b[0mcancellation_manager\u001b[0m\u001b[1;33m=\u001b[0m\u001b[1;32mNone\u001b[0m\u001b[1;33m)\u001b[0m\u001b[1;33m:\u001b[0m\u001b[1;33m\u001b[0m\u001b[1;33m\u001b[0m\u001b[0m\n",
      "\u001b[1;32m~\\Anaconda3\\lib\\site-packages\\tensorflow\\python\\eager\\function.py\u001b[0m in \u001b[0;36m_call_flat\u001b[1;34m(self, args, captured_inputs, cancellation_manager)\u001b[0m\n\u001b[0;32m   1744\u001b[0m       \u001b[1;31m# No tape is watching; skip to running the function.\u001b[0m\u001b[1;33m\u001b[0m\u001b[1;33m\u001b[0m\u001b[1;33m\u001b[0m\u001b[0m\n\u001b[0;32m   1745\u001b[0m       return self._build_call_outputs(self._inference_function.call(\n\u001b[1;32m-> 1746\u001b[1;33m           ctx, args, cancellation_manager=cancellation_manager))\n\u001b[0m\u001b[0;32m   1747\u001b[0m     forward_backward = self._select_forward_and_backward_functions(\n\u001b[0;32m   1748\u001b[0m         \u001b[0margs\u001b[0m\u001b[1;33m,\u001b[0m\u001b[1;33m\u001b[0m\u001b[1;33m\u001b[0m\u001b[0m\n",
      "\u001b[1;32m~\\Anaconda3\\lib\\site-packages\\tensorflow\\python\\eager\\function.py\u001b[0m in \u001b[0;36mcall\u001b[1;34m(self, ctx, args, cancellation_manager)\u001b[0m\n\u001b[0;32m    596\u001b[0m               \u001b[0minputs\u001b[0m\u001b[1;33m=\u001b[0m\u001b[0margs\u001b[0m\u001b[1;33m,\u001b[0m\u001b[1;33m\u001b[0m\u001b[1;33m\u001b[0m\u001b[0m\n\u001b[0;32m    597\u001b[0m               \u001b[0mattrs\u001b[0m\u001b[1;33m=\u001b[0m\u001b[0mattrs\u001b[0m\u001b[1;33m,\u001b[0m\u001b[1;33m\u001b[0m\u001b[1;33m\u001b[0m\u001b[0m\n\u001b[1;32m--> 598\u001b[1;33m               ctx=ctx)\n\u001b[0m\u001b[0;32m    599\u001b[0m         \u001b[1;32melse\u001b[0m\u001b[1;33m:\u001b[0m\u001b[1;33m\u001b[0m\u001b[1;33m\u001b[0m\u001b[0m\n\u001b[0;32m    600\u001b[0m           outputs = execute.execute_with_cancellation(\n",
      "\u001b[1;32m~\\Anaconda3\\lib\\site-packages\\tensorflow\\python\\eager\\execute.py\u001b[0m in \u001b[0;36mquick_execute\u001b[1;34m(op_name, num_outputs, inputs, attrs, ctx, name)\u001b[0m\n\u001b[0;32m     58\u001b[0m     \u001b[0mctx\u001b[0m\u001b[1;33m.\u001b[0m\u001b[0mensure_initialized\u001b[0m\u001b[1;33m(\u001b[0m\u001b[1;33m)\u001b[0m\u001b[1;33m\u001b[0m\u001b[1;33m\u001b[0m\u001b[0m\n\u001b[0;32m     59\u001b[0m     tensors = pywrap_tfe.TFE_Py_Execute(ctx._handle, device_name, op_name,\n\u001b[1;32m---> 60\u001b[1;33m                                         inputs, attrs, num_outputs)\n\u001b[0m\u001b[0;32m     61\u001b[0m   \u001b[1;32mexcept\u001b[0m \u001b[0mcore\u001b[0m\u001b[1;33m.\u001b[0m\u001b[0m_NotOkStatusException\u001b[0m \u001b[1;32mas\u001b[0m \u001b[0me\u001b[0m\u001b[1;33m:\u001b[0m\u001b[1;33m\u001b[0m\u001b[1;33m\u001b[0m\u001b[0m\n\u001b[0;32m     62\u001b[0m     \u001b[1;32mif\u001b[0m \u001b[0mname\u001b[0m \u001b[1;32mis\u001b[0m \u001b[1;32mnot\u001b[0m \u001b[1;32mNone\u001b[0m\u001b[1;33m:\u001b[0m\u001b[1;33m\u001b[0m\u001b[1;33m\u001b[0m\u001b[0m\n",
      "\u001b[1;31mKeyboardInterrupt\u001b[0m: "
     ]
    }
   ],
   "source": [
    "batch_size=32\n",
    "model.fit(train_generator,\n",
    "          batch_size=batch_size,\n",
    "          epochs=150,\n",
    "          validation_data=val_generator,\n",
    "          steps_per_epoch=10049//batch_size,\n",
    "          validation_steps=2511//batch_size\n",
    "         )"
   ]
  },
  {
   "cell_type": "code",
   "execution_count": 21,
   "metadata": {},
   "outputs": [],
   "source": [
    "model.save_weights('my_model_weights.h5')\n",
    "model.load_weights('my_model_weights.h5')"
   ]
  },
  {
   "cell_type": "code",
   "execution_count": 22,
   "metadata": {},
   "outputs": [],
   "source": [
    "# model.compile(optimizer=tf.keras.optimizers.SGD(lr=1e-6, momentum=0.9, decay=0.0005), loss='binary_crossentropy', metrics=['accuracy'])\n",
    "model.compile(optimizer=tf.keras.optimizers.Adam(lr=0.0001), loss='categorical_crossentropy', metrics=['accuracy'])"
   ]
  },
  {
   "cell_type": "code",
   "execution_count": 23,
   "metadata": {},
   "outputs": [
    {
     "name": "stdout",
     "output_type": "stream",
     "text": [
      "Epoch 1/25\n",
      "314/314 [==============================] - 80s 255ms/step - loss: 0.4345 - accuracy: 0.9452 - val_loss: 0.7674 - val_accuracy: 0.8201\n",
      "Epoch 2/25\n",
      "314/314 [==============================] - 82s 260ms/step - loss: 0.3982 - accuracy: 0.9529 - val_loss: 0.7520 - val_accuracy: 0.8225\n",
      "Epoch 3/25\n",
      "314/314 [==============================] - 82s 260ms/step - loss: 0.3721 - accuracy: 0.9597 - val_loss: 0.7238 - val_accuracy: 0.8306\n",
      "Epoch 4/25\n",
      "314/314 [==============================] - 82s 261ms/step - loss: 0.3577 - accuracy: 0.9602 - val_loss: 0.6820 - val_accuracy: 0.8322\n",
      "Epoch 5/25\n",
      "314/314 [==============================] - 83s 264ms/step - loss: 0.3389 - accuracy: 0.9653 - val_loss: 0.7311 - val_accuracy: 0.8253\n",
      "Epoch 6/25\n",
      "314/314 [==============================] - 82s 263ms/step - loss: 0.3221 - accuracy: 0.9678 - val_loss: 0.6892 - val_accuracy: 0.8435\n",
      "Epoch 7/25\n",
      "314/314 [==============================] - 81s 259ms/step - loss: 0.3030 - accuracy: 0.9720 - val_loss: 0.7029 - val_accuracy: 0.8282\n",
      "Epoch 8/25\n",
      "314/314 [==============================] - 82s 262ms/step - loss: 0.2937 - accuracy: 0.9718 - val_loss: 0.6847 - val_accuracy: 0.8350\n",
      "Epoch 9/25\n",
      "314/314 [==============================] - 83s 264ms/step - loss: 0.2720 - accuracy: 0.9780 - val_loss: 0.6970 - val_accuracy: 0.8378\n",
      "Epoch 10/25\n",
      "314/314 [==============================] - 83s 265ms/step - loss: 0.2690 - accuracy: 0.9738 - val_loss: 0.7593 - val_accuracy: 0.8092\n",
      "Epoch 11/25\n",
      "314/314 [==============================] - 82s 262ms/step - loss: 0.2550 - accuracy: 0.9778 - val_loss: 0.6710 - val_accuracy: 0.8390\n",
      "Epoch 12/25\n",
      "314/314 [==============================] - 83s 266ms/step - loss: 0.2466 - accuracy: 0.9791 - val_loss: 0.7119 - val_accuracy: 0.8338\n",
      "Epoch 13/25\n",
      "314/314 [==============================] - 83s 265ms/step - loss: 0.2395 - accuracy: 0.9788 - val_loss: 0.7112 - val_accuracy: 0.8290\n",
      "Epoch 14/25\n",
      "314/314 [==============================] - 83s 263ms/step - loss: 0.2293 - accuracy: 0.9798 - val_loss: 0.6778 - val_accuracy: 0.8386\n",
      "Epoch 15/25\n",
      "314/314 [==============================] - 83s 265ms/step - loss: 0.2183 - accuracy: 0.9828 - val_loss: 0.6778 - val_accuracy: 0.8403\n",
      "Epoch 16/25\n",
      "314/314 [==============================] - 83s 264ms/step - loss: 0.2112 - accuracy: 0.9825 - val_loss: 0.7237 - val_accuracy: 0.8100\n",
      "Epoch 17/25\n",
      "314/314 [==============================] - 83s 264ms/step - loss: 0.2071 - accuracy: 0.9827 - val_loss: 0.6768 - val_accuracy: 0.8322\n",
      "Epoch 18/25\n",
      "314/314 [==============================] - 92s 294ms/step - loss: 0.2005 - accuracy: 0.9825 - val_loss: 0.6825 - val_accuracy: 0.8338\n",
      "Epoch 19/25\n",
      "314/314 [==============================] - 89s 284ms/step - loss: 0.1906 - accuracy: 0.9854 - val_loss: 0.7445 - val_accuracy: 0.8185\n",
      "Epoch 20/25\n",
      "314/314 [==============================] - 85s 269ms/step - loss: 0.1863 - accuracy: 0.9842 - val_loss: 0.7359 - val_accuracy: 0.8273\n",
      "Epoch 21/25\n",
      "314/314 [==============================] - 89s 282ms/step - loss: 0.1813 - accuracy: 0.9845 - val_loss: 0.6989 - val_accuracy: 0.8395\n",
      "Epoch 22/25\n",
      "314/314 [==============================] - 83s 263ms/step - loss: 0.1762 - accuracy: 0.9854 - val_loss: 0.6773 - val_accuracy: 0.8390\n",
      "Epoch 23/25\n",
      "314/314 [==============================] - 83s 265ms/step - loss: 0.1741 - accuracy: 0.9850 - val_loss: 0.7441 - val_accuracy: 0.8209\n",
      "Epoch 24/25\n",
      "314/314 [==============================] - 83s 263ms/step - loss: 0.1674 - accuracy: 0.9872 - val_loss: 0.6693 - val_accuracy: 0.8395\n",
      "Epoch 25/25\n",
      "314/314 [==============================] - 83s 265ms/step - loss: 0.1639 - accuracy: 0.9854 - val_loss: 0.6871 - val_accuracy: 0.8221\n"
     ]
    },
    {
     "data": {
      "text/plain": [
       "<tensorflow.python.keras.callbacks.History at 0x1884245cdd8>"
      ]
     },
     "execution_count": 23,
     "metadata": {},
     "output_type": "execute_result"
    }
   ],
   "source": [
    "batch_size=32\n",
    "model.fit(train_generator,\n",
    "          batch_size=batch_size,\n",
    "          epochs=25,\n",
    "          validation_data=val_generator,\n",
    "          steps_per_epoch=10049//batch_size,\n",
    "          validation_steps=2511//batch_size\n",
    "         )"
   ]
  },
  {
   "cell_type": "code",
   "execution_count": 25,
   "metadata": {},
   "outputs": [],
   "source": [
    "# model.compile(optimizer=tf.keras.optimizers.SGD(lr=1e-6, momentum=0.9, decay=0.0005), loss='binary_crossentropy', metrics=['accuracy'])\n",
    "model.compile(optimizer=tf.keras.optimizers.Adam(lr=0.00001), loss='categorical_crossentropy', metrics=['accuracy'])"
   ]
  },
  {
   "cell_type": "code",
   "execution_count": 26,
   "metadata": {},
   "outputs": [
    {
     "name": "stdout",
     "output_type": "stream",
     "text": [
      "Epoch 1/10\n",
      "314/314 [==============================] - 85s 269ms/step - loss: 0.1549 - accuracy: 0.9893 - val_loss: 0.7024 - val_accuracy: 0.8257\n",
      "Epoch 2/10\n",
      "314/314 [==============================] - 79s 252ms/step - loss: 0.1524 - accuracy: 0.9901 - val_loss: 0.7037 - val_accuracy: 0.8362\n",
      "Epoch 3/10\n",
      "314/314 [==============================] - 79s 253ms/step - loss: 0.1472 - accuracy: 0.9920 - val_loss: 0.6903 - val_accuracy: 0.8419\n",
      "Epoch 4/10\n",
      "314/314 [==============================] - 80s 255ms/step - loss: 0.1502 - accuracy: 0.9893 - val_loss: 0.6824 - val_accuracy: 0.8374\n",
      "Epoch 5/10\n",
      "314/314 [==============================] - 80s 254ms/step - loss: 0.1471 - accuracy: 0.9906 - val_loss: 0.7264 - val_accuracy: 0.8310\n",
      "Epoch 6/10\n",
      "314/314 [==============================] - 80s 255ms/step - loss: 0.1468 - accuracy: 0.9905 - val_loss: 0.6782 - val_accuracy: 0.8378\n",
      "Epoch 7/10\n",
      "314/314 [==============================] - 80s 256ms/step - loss: 0.1451 - accuracy: 0.9923 - val_loss: 0.6828 - val_accuracy: 0.8439\n",
      "Epoch 8/10\n",
      "314/314 [==============================] - 81s 257ms/step - loss: 0.1464 - accuracy: 0.9896 - val_loss: 0.6843 - val_accuracy: 0.8370\n",
      "Epoch 9/10\n",
      "314/314 [==============================] - 80s 256ms/step - loss: 0.1436 - accuracy: 0.9916 - val_loss: 0.6948 - val_accuracy: 0.8338\n",
      "Epoch 10/10\n",
      "314/314 [==============================] - 80s 256ms/step - loss: 0.1423 - accuracy: 0.9911 - val_loss: 0.6878 - val_accuracy: 0.8382\n"
     ]
    },
    {
     "data": {
      "text/plain": [
       "<tensorflow.python.keras.callbacks.History at 0x1884ef33908>"
      ]
     },
     "execution_count": 26,
     "metadata": {},
     "output_type": "execute_result"
    }
   ],
   "source": [
    "model.fit(train_generator,\n",
    "          batch_size=batch_size,\n",
    "          epochs=10,\n",
    "          validation_data=val_generator,\n",
    "          steps_per_epoch=10049//batch_size,\n",
    "          validation_steps=2511//batch_size\n",
    "         )"
   ]
  },
  {
   "cell_type": "code",
   "execution_count": 28,
   "metadata": {},
   "outputs": [],
   "source": [
    "model.save(\"tampering_detection_model.h5\")"
   ]
  }
 ],
 "metadata": {
  "accelerator": "TPU",
  "celltoolbar": "Raw Cell Format",
  "colab": {
   "collapsed_sections": [],
   "name": "tampering_detection2.ipynb",
   "provenance": []
  },
  "kernelspec": {
   "display_name": "Python 3",
   "language": "python",
   "name": "python3"
  },
  "language_info": {
   "codemirror_mode": {
    "name": "ipython",
    "version": 3
   },
   "file_extension": ".py",
   "mimetype": "text/x-python",
   "name": "python",
   "nbconvert_exporter": "python",
   "pygments_lexer": "ipython3",
   "version": "3.7.3"
  }
 },
 "nbformat": 4,
 "nbformat_minor": 1
}
