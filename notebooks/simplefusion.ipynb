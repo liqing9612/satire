{
 "cells": [
  {
   "cell_type": "code",
   "execution_count": 1,
   "metadata": {
    "colab": {
     "base_uri": "https://localhost:8080/",
     "height": 301
    },
    "colab_type": "code",
    "id": "b9Y6nasKCuFT",
    "outputId": "38d3c545-4385-4ff0-e8e2-7f20f066cc95"
   },
   "outputs": [],
   "source": [
    "!gcloud auth login\n",
    "!mkdir /content/images/\n",
    "!gsutil -mq cp gs://lily-li-dataset/satire/**.jsonl /content/\n",
    "!gsutil -mq cp -r gs://lily-li-dataset/satire/defaults/images/ /content/images/"
   ]
  },
  {
   "cell_type": "code",
   "execution_count": 2,
   "metadata": {
    "colab": {
     "base_uri": "https://localhost:8080/",
     "height": 107
    },
    "colab_type": "code",
    "id": "XAfPxpq1DKQ9",
    "outputId": "3a46e1ac-e3c7-49d7-ed11-f379c887527d"
   },
   "outputs": [
    {
     "name": "stderr",
     "output_type": "stream",
     "text": [
      "/usr/local/lib/python3.6/dist-packages/PIL/TiffImagePlugin.py:788: UserWarning: Corrupt EXIF data.  Expecting to read 4 bytes but only got 0. \n",
      "  warnings.warn(str(msg))\n",
      "/usr/local/lib/python3.6/dist-packages/PIL/Image.py:932: UserWarning: Palette images with Transparency expressed in bytes should be converted to RGBA images\n",
      "  \"Palette images with Transparency expressed in bytes should be \"\n"
     ]
    }
   ],
   "source": [
    "import numpy as np\n",
    "import jsonlines\n",
    "from PIL import Image\n",
    "import tensorflow as tf\n",
    "\n",
    "with jsonlines.open('/content/train.jsonl', 'r') as data:\n",
    "    hl_train = []\n",
    "    img_train = []\n",
    "    y_train = []\n",
    "    for i, d in enumerate(data):\n",
    "        try:\n",
    "            filepath = \"/content/images/images/\" + str(i) + \".jpg\"  \n",
    "            img = Image.open(filepath).resize((128,128), Image.BICUBIC).convert('RGB')\n",
    "            img_train.append(np.asarray(img) / 255.)\n",
    "            hl_train.append(d[\"text\"])\n",
    "            y_train.append(d[\"label\"])\n",
    "        except:\n",
    "            print(\"Image at filepath {0} does not exist\".format(filepath))\n",
    "\n",
    "with jsonlines.open('/content/test.jsonl', 'r') as data:\n",
    "    hl_test = []\n",
    "    img_test= []\n",
    "    y_test = []\n",
    "    for i, d in enumerate(data):\n",
    "        try:\n",
    "            filepath = \"/content/images/images/\" + str(i) + \".jpg\"  \n",
    "            img = Image.open(filepath).resize((128,128), Image.BICUBIC).convert('RGB')\n",
    "            img_test.append(np.asarray(img) / 255.)\n",
    "            hl_test.append(d[\"text\"])\n",
    "            y_test.append(d[\"label\"])\n",
    "        except:\n",
    "            print(\"Image at filepath {0} does not exist\".format(filepath))"
   ]
  },
  {
   "cell_type": "code",
   "execution_count": 3,
   "metadata": {
    "colab": {
     "base_uri": "https://localhost:8080/",
     "height": 116,
     "referenced_widgets": [
      "8fbad154ef8f43afa0f2e1f90fa6a4cd",
      "2a4af0626fa34c829b9378489c549d59",
      "47a33d83335446d59423918c4e1717d4",
      "b16d3281844a4d5f9aac4ea9d746b579",
      "fd583eda632d48599db84756c5e0367c",
      "ca8872947d0e4e8ab7d248b85a70b6e8",
      "81d8f02a6f8140be9b059ae2b6ad7ea3",
      "b35aea72ef064c438754b868d0611224",
      "ef0bee2769e74e3189c8a77c398485f3",
      "6e63f1d19b394bbcb2bd2ef3b10f4407",
      "ad0e8d3214ca41dbad173c0139a9d54a",
      "5995297de26a4750a30da1eae8a60038",
      "a9425959ea8f478ea13521b430b1a427",
      "826b7600aca64785be51ea697ada7860",
      "2bfcea11ea07409d96d5bbc5e0cf83d1",
      "07b9f17691164162af2a10af8b7ec271"
     ]
    },
    "colab_type": "code",
    "id": "wqa6UC7gDLax",
    "outputId": "7ea9f901-33cb-458f-fa4c-6bc4c6b82d4f"
   },
   "outputs": [
    {
     "data": {
      "application/vnd.jupyter.widget-view+json": {
       "model_id": "8fbad154ef8f43afa0f2e1f90fa6a4cd",
       "version_major": 2,
       "version_minor": 0
      },
      "text/plain": [
       "HBox(children=(FloatProgress(value=0.0, description='Downloading', max=433.0, style=ProgressStyle(description_…"
      ]
     },
     "metadata": {
      "tags": []
     },
     "output_type": "display_data"
    },
    {
     "name": "stdout",
     "output_type": "stream",
     "text": [
      "\n"
     ]
    },
    {
     "data": {
      "application/vnd.jupyter.widget-view+json": {
       "model_id": "ef0bee2769e74e3189c8a77c398485f3",
       "version_major": 2,
       "version_minor": 0
      },
      "text/plain": [
       "HBox(children=(FloatProgress(value=0.0, description='Downloading', max=231508.0, style=ProgressStyle(descripti…"
      ]
     },
     "metadata": {
      "tags": []
     },
     "output_type": "display_data"
    },
    {
     "name": "stdout",
     "output_type": "stream",
     "text": [
      "\n"
     ]
    }
   ],
   "source": [
    "from transformers import AutoTokenizer, TFBertModel \n",
    "max_len = 128\n",
    "tokenizer = AutoTokenizer.from_pretrained(\"bert-base-uncased\")\n",
    "\n",
    "train_dict = tokenizer(list(hl_train), padding=\"max_length\", truncation=True, max_length=max_len, return_tensors=\"tf\")\n",
    "train_input_ids, train_segment_ids, train_attention_masks = (train_dict[\"input_ids\"],\n",
    "                                                             train_dict[\"token_type_ids\"],\n",
    "                                                             train_dict[\"attention_mask\"])\n",
    "test_dict = tokenizer(list(hl_test), padding=\"max_length\", truncation=True, max_length=max_len, return_tensors=\"tf\")\n",
    "test_input_ids, test_segment_ids, test_attention_masks = (test_dict[\"input_ids\"],\n",
    "                                                          test_dict[\"token_type_ids\"],\n",
    "                                                          test_dict[\"attention_mask\"])"
   ]
  },
  {
   "cell_type": "code",
   "execution_count": 4,
   "metadata": {
    "colab": {},
    "colab_type": "code",
    "id": "tV0oQjZDDNdu"
   },
   "outputs": [],
   "source": [
    "def create_model():\n",
    "    encoder = TFBertModel.from_pretrained(\"bert-base-uncased\")  \n",
    "\n",
    "    input_ids = tf.keras.layers.Input(shape=(max_len,), dtype=tf.int32)\n",
    "    segment_ids = tf.keras.layers.Input(shape=(max_len,), dtype=tf.int32)\n",
    "    input_mask = tf.keras.layers.Input(shape=(max_len,), dtype=tf.int32)\n",
    "\n",
    "    bert_output = encoder(input_ids, token_type_ids=segment_ids, attention_mask=input_mask)[0]\n",
    "    bert_output = tf.keras.layers.Flatten()(bert_output)\n",
    "    ####################################\n",
    "    ResNet = tf.keras.applications.ResNet101(\n",
    "            include_top=False,\n",
    "            weights=\"imagenet\",\n",
    "            input_shape=(128,128,3),\n",
    "            )\n",
    "\n",
    "    input_img = tf.keras.layers.Input(shape=(128,128,3))\n",
    "    img_output = ResNet(input_img)\n",
    "    img_output = tf.keras.layers.Flatten()(img_output)\n",
    "    #########################################\n",
    "    merged = tf.keras.layers.concatenate([bert_output, img_output], axis=-1)\n",
    "\n",
    "    dense = tf.keras.layers.Dense(256, activation='relu')(merged)\n",
    "\n",
    "    output = tf.keras.layers.Dense(1, activation='sigmoid')(dense)\n",
    "\n",
    "    model = tf.keras.Model(\n",
    "        inputs=[input_ids, segment_ids, input_mask, input_img],\n",
    "        outputs=output,\n",
    "    )\n",
    "    return model"
   ]
  },
  {
   "cell_type": "code",
   "execution_count": 5,
   "metadata": {
    "colab": {
     "base_uri": "https://localhost:8080/",
     "height": 705
    },
    "colab_type": "code",
    "id": "mQl4OKvnDPYL",
    "outputId": "09f0f727-063d-4240-fd8e-ccd430d181ea"
   },
   "outputs": [
    {
     "name": "stderr",
     "output_type": "stream",
     "text": [
      "Some weights of the model checkpoint at bert-base-uncased were not used when initializing TFBertModel: ['nsp___cls', 'mlm___cls']\n",
      "- This IS expected if you are initializing TFBertModel from the checkpoint of a model trained on another task or with another architecture (e.g. initializing a BertForSequenceClassification model from a BertForPretraining model).\n",
      "- This IS NOT expected if you are initializing TFBertModel from the checkpoint of a model that you expect to be exactly identical (initializing a BertForSequenceClassification model from a BertForSequenceClassification model).\n",
      "All the weights of TFBertModel were initialized from the model checkpoint at bert-base-uncased.\n",
      "If your task is similar to the task the model of the ckeckpoint was trained on, you can already use TFBertModel for predictions without further training.\n"
     ]
    },
    {
     "name": "stdout",
     "output_type": "stream",
     "text": [
      "Model: \"functional_3\"\n",
      "__________________________________________________________________________________________________\n",
      "Layer (type)                    Output Shape         Param #     Connected to                     \n",
      "==================================================================================================\n",
      "input_16 (InputLayer)           [(None, 128)]        0                                            \n",
      "__________________________________________________________________________________________________\n",
      "input_18 (InputLayer)           [(None, 128)]        0                                            \n",
      "__________________________________________________________________________________________________\n",
      "input_17 (InputLayer)           [(None, 128)]        0                                            \n",
      "__________________________________________________________________________________________________\n",
      "input_20 (InputLayer)           [(None, 128, 128, 3) 0                                            \n",
      "__________________________________________________________________________________________________\n",
      "tf_bert_model_6 (TFBertModel)   ((None, 128, 768), ( 109482240   input_16[0][0]                   \n",
      "                                                                 input_18[0][0]                   \n",
      "                                                                 input_17[0][0]                   \n",
      "__________________________________________________________________________________________________\n",
      "resnet101 (Functional)          (None, 4, 4, 2048)   42658176    input_20[0][0]                   \n",
      "__________________________________________________________________________________________________\n",
      "flatten_2 (Flatten)             (None, 98304)        0           tf_bert_model_6[0][0]            \n",
      "__________________________________________________________________________________________________\n",
      "flatten_3 (Flatten)             (None, 32768)        0           resnet101[0][0]                  \n",
      "__________________________________________________________________________________________________\n",
      "concatenate_1 (Concatenate)     (None, 131072)       0           flatten_2[0][0]                  \n",
      "                                                                 flatten_3[0][0]                  \n",
      "__________________________________________________________________________________________________\n",
      "dense_2 (Dense)                 (None, 256)          33554688    concatenate_1[0][0]              \n",
      "__________________________________________________________________________________________________\n",
      "dense_3 (Dense)                 (None, 1)            257         dense_2[0][0]                    \n",
      "==================================================================================================\n",
      "Total params: 185,695,361\n",
      "Trainable params: 185,590,017\n",
      "Non-trainable params: 105,344\n",
      "__________________________________________________________________________________________________\n"
     ]
    }
   ],
   "source": [
    "model = create_model()\n",
    "model.summary()"
   ]
  },
  {
   "cell_type": "code",
   "execution_count": 6,
   "metadata": {
    "colab": {},
    "colab_type": "code",
    "id": "qWM2ICM3G_0l"
   },
   "outputs": [],
   "source": [
    "img_train = np.stack(img_train, axis=0)\n",
    "img_test = np.stack(img_test, axis=0)\n",
    "\n",
    "img_train = tf.convert_to_tensor(img_train)\n",
    "img_test = tf.convert_to_tensor(img_test)\n",
    "y_train = tf.convert_to_tensor(y_train)\n",
    "y_test = tf.convert_to_tensor(y_test)"
   ]
  },
  {
   "cell_type": "code",
   "execution_count": 7,
   "metadata": {
    "colab": {},
    "colab_type": "code",
    "id": "GeGzt5mwDQU2"
   },
   "outputs": [],
   "source": [
    "optimizer = tf.keras.optimizers.Adam(lr=8e-5)\n",
    "model.compile(optimizer=optimizer, loss=tf.keras.losses.binary_crossentropy,\n",
    "              metrics=[\"accuracy\", \"AUC\", \"Precision\", \"Recall\"])"
   ]
  },
  {
   "cell_type": "code",
   "execution_count": 8,
   "metadata": {
    "colab": {
     "base_uri": "https://localhost:8080/",
     "height": 301
    },
    "colab_type": "code",
    "id": "pBLKZmweDRUZ",
    "outputId": "836fd7ef-1f9d-49ce-dbe4-6d3145c5574b"
   },
   "outputs": [
    {
     "name": "stdout",
     "output_type": "stream",
     "text": [
      "Epoch 1/5\n",
      "WARNING:tensorflow:Gradients do not exist for variables ['tf_bert_model_6/bert/pooler/dense/kernel:0', 'tf_bert_model_6/bert/pooler/dense/bias:0'] when minimizing the loss.\n",
      "WARNING:tensorflow:Gradients do not exist for variables ['tf_bert_model_6/bert/pooler/dense/kernel:0', 'tf_bert_model_6/bert/pooler/dense/bias:0'] when minimizing the loss.\n",
      "WARNING:tensorflow:Gradients do not exist for variables ['tf_bert_model_6/bert/pooler/dense/kernel:0', 'tf_bert_model_6/bert/pooler/dense/bias:0'] when minimizing the loss.\n",
      "WARNING:tensorflow:Gradients do not exist for variables ['tf_bert_model_6/bert/pooler/dense/kernel:0', 'tf_bert_model_6/bert/pooler/dense/bias:0'] when minimizing the loss.\n",
      "250/250 [==============================] - 156s 626ms/step - loss: 0.4423 - accuracy: 0.8105 - auc: 0.8817 - precision: 0.7760 - recall: 0.7472 - val_loss: 0.2481 - val_accuracy: 0.8982 - val_auc: 0.9633 - val_precision: 0.8493 - val_recall: 0.9140\n",
      "Epoch 2/5\n",
      "250/250 [==============================] - 152s 610ms/step - loss: 0.2642 - accuracy: 0.8935 - auc: 0.9544 - precision: 0.8756 - recall: 0.8525 - val_loss: 0.2507 - val_accuracy: 0.9274 - val_auc: 0.9705 - val_precision: 0.9564 - val_recall: 0.8624\n",
      "Epoch 3/5\n",
      "250/250 [==============================] - 152s 609ms/step - loss: 0.1114 - accuracy: 0.9580 - auc: 0.9904 - precision: 0.9504 - recall: 0.9431 - val_loss: 0.2932 - val_accuracy: 0.9173 - val_auc: 0.9623 - val_precision: 0.9012 - val_recall: 0.8968\n",
      "Epoch 4/5\n",
      "250/250 [==============================] - 152s 610ms/step - loss: 0.1263 - accuracy: 0.9563 - auc: 0.9887 - precision: 0.9452 - recall: 0.9469 - val_loss: 0.2416 - val_accuracy: 0.9235 - val_auc: 0.9731 - val_precision: 0.9406 - val_recall: 0.8943\n",
      "Epoch 5/5\n",
      "250/250 [==============================] - 152s 608ms/step - loss: 0.0448 - accuracy: 0.9845 - auc: 0.9975 - precision: 0.9831 - recall: 0.9782 - val_loss: 0.3121 - val_accuracy: 0.9163 - val_auc: 0.9674 - val_precision: 0.8665 - val_recall: 0.9410\n"
     ]
    },
    {
     "data": {
      "text/plain": [
       "<tensorflow.python.keras.callbacks.History at 0x7fe7191403c8>"
      ]
     },
     "execution_count": 8,
     "metadata": {
      "tags": []
     },
     "output_type": "execute_result"
    }
   ],
   "source": [
    "model.fit(x=[train_input_ids, train_segment_ids, train_attention_masks, img_train],\n",
    "           y=y_train, batch_size=16, epochs=5, validation_steps=2000//32,\n",
    "           steps_per_epoch=8000//32,\n",
    "           validation_data=([test_input_ids, test_segment_ids, test_attention_masks, img_test], y_test))"
   ]
  }
 ],
 "metadata": {
  "accelerator": "GPU",
  "colab": {
   "name": "simplefusion_bert.ipynb",
   "provenance": []
  },
  "kernelspec": {
   "display_name": "Python 3",
   "language": "python",
   "name": "python3"
  },
  "language_info": {
   "codemirror_mode": {
    "name": "ipython",
    "version": 3
   },
   "file_extension": ".py",
   "mimetype": "text/x-python",
   "name": "python",
   "nbconvert_exporter": "python",
   "pygments_lexer": "ipython3",
   "version": "3.7.3"
  },
  "widgets": {
   "application/vnd.jupyter.widget-state+json": {
    "07b9f17691164162af2a10af8b7ec271": {
     "model_module": "@jupyter-widgets/base",
     "model_name": "LayoutModel",
     "state": {
      "_model_module": "@jupyter-widgets/base",
      "_model_module_version": "1.2.0",
      "_model_name": "LayoutModel",
      "_view_count": null,
      "_view_module": "@jupyter-widgets/base",
      "_view_module_version": "1.2.0",
      "_view_name": "LayoutView",
      "align_content": null,
      "align_items": null,
      "align_self": null,
      "border": null,
      "bottom": null,
      "display": null,
      "flex": null,
      "flex_flow": null,
      "grid_area": null,
      "grid_auto_columns": null,
      "grid_auto_flow": null,
      "grid_auto_rows": null,
      "grid_column": null,
      "grid_gap": null,
      "grid_row": null,
      "grid_template_areas": null,
      "grid_template_columns": null,
      "grid_template_rows": null,
      "height": null,
      "justify_content": null,
      "justify_items": null,
      "left": null,
      "margin": null,
      "max_height": null,
      "max_width": null,
      "min_height": null,
      "min_width": null,
      "object_fit": null,
      "object_position": null,
      "order": null,
      "overflow": null,
      "overflow_x": null,
      "overflow_y": null,
      "padding": null,
      "right": null,
      "top": null,
      "visibility": null,
      "width": null
     }
    },
    "2a4af0626fa34c829b9378489c549d59": {
     "model_module": "@jupyter-widgets/base",
     "model_name": "LayoutModel",
     "state": {
      "_model_module": "@jupyter-widgets/base",
      "_model_module_version": "1.2.0",
      "_model_name": "LayoutModel",
      "_view_count": null,
      "_view_module": "@jupyter-widgets/base",
      "_view_module_version": "1.2.0",
      "_view_name": "LayoutView",
      "align_content": null,
      "align_items": null,
      "align_self": null,
      "border": null,
      "bottom": null,
      "display": null,
      "flex": null,
      "flex_flow": null,
      "grid_area": null,
      "grid_auto_columns": null,
      "grid_auto_flow": null,
      "grid_auto_rows": null,
      "grid_column": null,
      "grid_gap": null,
      "grid_row": null,
      "grid_template_areas": null,
      "grid_template_columns": null,
      "grid_template_rows": null,
      "height": null,
      "justify_content": null,
      "justify_items": null,
      "left": null,
      "margin": null,
      "max_height": null,
      "max_width": null,
      "min_height": null,
      "min_width": null,
      "object_fit": null,
      "object_position": null,
      "order": null,
      "overflow": null,
      "overflow_x": null,
      "overflow_y": null,
      "padding": null,
      "right": null,
      "top": null,
      "visibility": null,
      "width": null
     }
    },
    "2bfcea11ea07409d96d5bbc5e0cf83d1": {
     "model_module": "@jupyter-widgets/controls",
     "model_name": "DescriptionStyleModel",
     "state": {
      "_model_module": "@jupyter-widgets/controls",
      "_model_module_version": "1.5.0",
      "_model_name": "DescriptionStyleModel",
      "_view_count": null,
      "_view_module": "@jupyter-widgets/base",
      "_view_module_version": "1.2.0",
      "_view_name": "StyleView",
      "description_width": ""
     }
    },
    "47a33d83335446d59423918c4e1717d4": {
     "model_module": "@jupyter-widgets/controls",
     "model_name": "FloatProgressModel",
     "state": {
      "_dom_classes": [],
      "_model_module": "@jupyter-widgets/controls",
      "_model_module_version": "1.5.0",
      "_model_name": "FloatProgressModel",
      "_view_count": null,
      "_view_module": "@jupyter-widgets/controls",
      "_view_module_version": "1.5.0",
      "_view_name": "ProgressView",
      "bar_style": "success",
      "description": "Downloading: 100%",
      "description_tooltip": null,
      "layout": "IPY_MODEL_ca8872947d0e4e8ab7d248b85a70b6e8",
      "max": 433,
      "min": 0,
      "orientation": "horizontal",
      "style": "IPY_MODEL_fd583eda632d48599db84756c5e0367c",
      "value": 433
     }
    },
    "5995297de26a4750a30da1eae8a60038": {
     "model_module": "@jupyter-widgets/controls",
     "model_name": "HTMLModel",
     "state": {
      "_dom_classes": [],
      "_model_module": "@jupyter-widgets/controls",
      "_model_module_version": "1.5.0",
      "_model_name": "HTMLModel",
      "_view_count": null,
      "_view_module": "@jupyter-widgets/controls",
      "_view_module_version": "1.5.0",
      "_view_name": "HTMLView",
      "description": "",
      "description_tooltip": null,
      "layout": "IPY_MODEL_07b9f17691164162af2a10af8b7ec271",
      "placeholder": "​",
      "style": "IPY_MODEL_2bfcea11ea07409d96d5bbc5e0cf83d1",
      "value": " 232k/232k [00:00&lt;00:00, 804kB/s]"
     }
    },
    "6e63f1d19b394bbcb2bd2ef3b10f4407": {
     "model_module": "@jupyter-widgets/base",
     "model_name": "LayoutModel",
     "state": {
      "_model_module": "@jupyter-widgets/base",
      "_model_module_version": "1.2.0",
      "_model_name": "LayoutModel",
      "_view_count": null,
      "_view_module": "@jupyter-widgets/base",
      "_view_module_version": "1.2.0",
      "_view_name": "LayoutView",
      "align_content": null,
      "align_items": null,
      "align_self": null,
      "border": null,
      "bottom": null,
      "display": null,
      "flex": null,
      "flex_flow": null,
      "grid_area": null,
      "grid_auto_columns": null,
      "grid_auto_flow": null,
      "grid_auto_rows": null,
      "grid_column": null,
      "grid_gap": null,
      "grid_row": null,
      "grid_template_areas": null,
      "grid_template_columns": null,
      "grid_template_rows": null,
      "height": null,
      "justify_content": null,
      "justify_items": null,
      "left": null,
      "margin": null,
      "max_height": null,
      "max_width": null,
      "min_height": null,
      "min_width": null,
      "object_fit": null,
      "object_position": null,
      "order": null,
      "overflow": null,
      "overflow_x": null,
      "overflow_y": null,
      "padding": null,
      "right": null,
      "top": null,
      "visibility": null,
      "width": null
     }
    },
    "81d8f02a6f8140be9b059ae2b6ad7ea3": {
     "model_module": "@jupyter-widgets/controls",
     "model_name": "DescriptionStyleModel",
     "state": {
      "_model_module": "@jupyter-widgets/controls",
      "_model_module_version": "1.5.0",
      "_model_name": "DescriptionStyleModel",
      "_view_count": null,
      "_view_module": "@jupyter-widgets/base",
      "_view_module_version": "1.2.0",
      "_view_name": "StyleView",
      "description_width": ""
     }
    },
    "826b7600aca64785be51ea697ada7860": {
     "model_module": "@jupyter-widgets/base",
     "model_name": "LayoutModel",
     "state": {
      "_model_module": "@jupyter-widgets/base",
      "_model_module_version": "1.2.0",
      "_model_name": "LayoutModel",
      "_view_count": null,
      "_view_module": "@jupyter-widgets/base",
      "_view_module_version": "1.2.0",
      "_view_name": "LayoutView",
      "align_content": null,
      "align_items": null,
      "align_self": null,
      "border": null,
      "bottom": null,
      "display": null,
      "flex": null,
      "flex_flow": null,
      "grid_area": null,
      "grid_auto_columns": null,
      "grid_auto_flow": null,
      "grid_auto_rows": null,
      "grid_column": null,
      "grid_gap": null,
      "grid_row": null,
      "grid_template_areas": null,
      "grid_template_columns": null,
      "grid_template_rows": null,
      "height": null,
      "justify_content": null,
      "justify_items": null,
      "left": null,
      "margin": null,
      "max_height": null,
      "max_width": null,
      "min_height": null,
      "min_width": null,
      "object_fit": null,
      "object_position": null,
      "order": null,
      "overflow": null,
      "overflow_x": null,
      "overflow_y": null,
      "padding": null,
      "right": null,
      "top": null,
      "visibility": null,
      "width": null
     }
    },
    "8fbad154ef8f43afa0f2e1f90fa6a4cd": {
     "model_module": "@jupyter-widgets/controls",
     "model_name": "HBoxModel",
     "state": {
      "_dom_classes": [],
      "_model_module": "@jupyter-widgets/controls",
      "_model_module_version": "1.5.0",
      "_model_name": "HBoxModel",
      "_view_count": null,
      "_view_module": "@jupyter-widgets/controls",
      "_view_module_version": "1.5.0",
      "_view_name": "HBoxView",
      "box_style": "",
      "children": [
       "IPY_MODEL_47a33d83335446d59423918c4e1717d4",
       "IPY_MODEL_b16d3281844a4d5f9aac4ea9d746b579"
      ],
      "layout": "IPY_MODEL_2a4af0626fa34c829b9378489c549d59"
     }
    },
    "a9425959ea8f478ea13521b430b1a427": {
     "model_module": "@jupyter-widgets/controls",
     "model_name": "ProgressStyleModel",
     "state": {
      "_model_module": "@jupyter-widgets/controls",
      "_model_module_version": "1.5.0",
      "_model_name": "ProgressStyleModel",
      "_view_count": null,
      "_view_module": "@jupyter-widgets/base",
      "_view_module_version": "1.2.0",
      "_view_name": "StyleView",
      "bar_color": null,
      "description_width": "initial"
     }
    },
    "ad0e8d3214ca41dbad173c0139a9d54a": {
     "model_module": "@jupyter-widgets/controls",
     "model_name": "FloatProgressModel",
     "state": {
      "_dom_classes": [],
      "_model_module": "@jupyter-widgets/controls",
      "_model_module_version": "1.5.0",
      "_model_name": "FloatProgressModel",
      "_view_count": null,
      "_view_module": "@jupyter-widgets/controls",
      "_view_module_version": "1.5.0",
      "_view_name": "ProgressView",
      "bar_style": "success",
      "description": "Downloading: 100%",
      "description_tooltip": null,
      "layout": "IPY_MODEL_826b7600aca64785be51ea697ada7860",
      "max": 231508,
      "min": 0,
      "orientation": "horizontal",
      "style": "IPY_MODEL_a9425959ea8f478ea13521b430b1a427",
      "value": 231508
     }
    },
    "b16d3281844a4d5f9aac4ea9d746b579": {
     "model_module": "@jupyter-widgets/controls",
     "model_name": "HTMLModel",
     "state": {
      "_dom_classes": [],
      "_model_module": "@jupyter-widgets/controls",
      "_model_module_version": "1.5.0",
      "_model_name": "HTMLModel",
      "_view_count": null,
      "_view_module": "@jupyter-widgets/controls",
      "_view_module_version": "1.5.0",
      "_view_name": "HTMLView",
      "description": "",
      "description_tooltip": null,
      "layout": "IPY_MODEL_b35aea72ef064c438754b868d0611224",
      "placeholder": "​",
      "style": "IPY_MODEL_81d8f02a6f8140be9b059ae2b6ad7ea3",
      "value": " 433/433 [00:02&lt;00:00, 150B/s]"
     }
    },
    "b35aea72ef064c438754b868d0611224": {
     "model_module": "@jupyter-widgets/base",
     "model_name": "LayoutModel",
     "state": {
      "_model_module": "@jupyter-widgets/base",
      "_model_module_version": "1.2.0",
      "_model_name": "LayoutModel",
      "_view_count": null,
      "_view_module": "@jupyter-widgets/base",
      "_view_module_version": "1.2.0",
      "_view_name": "LayoutView",
      "align_content": null,
      "align_items": null,
      "align_self": null,
      "border": null,
      "bottom": null,
      "display": null,
      "flex": null,
      "flex_flow": null,
      "grid_area": null,
      "grid_auto_columns": null,
      "grid_auto_flow": null,
      "grid_auto_rows": null,
      "grid_column": null,
      "grid_gap": null,
      "grid_row": null,
      "grid_template_areas": null,
      "grid_template_columns": null,
      "grid_template_rows": null,
      "height": null,
      "justify_content": null,
      "justify_items": null,
      "left": null,
      "margin": null,
      "max_height": null,
      "max_width": null,
      "min_height": null,
      "min_width": null,
      "object_fit": null,
      "object_position": null,
      "order": null,
      "overflow": null,
      "overflow_x": null,
      "overflow_y": null,
      "padding": null,
      "right": null,
      "top": null,
      "visibility": null,
      "width": null
     }
    },
    "ca8872947d0e4e8ab7d248b85a70b6e8": {
     "model_module": "@jupyter-widgets/base",
     "model_name": "LayoutModel",
     "state": {
      "_model_module": "@jupyter-widgets/base",
      "_model_module_version": "1.2.0",
      "_model_name": "LayoutModel",
      "_view_count": null,
      "_view_module": "@jupyter-widgets/base",
      "_view_module_version": "1.2.0",
      "_view_name": "LayoutView",
      "align_content": null,
      "align_items": null,
      "align_self": null,
      "border": null,
      "bottom": null,
      "display": null,
      "flex": null,
      "flex_flow": null,
      "grid_area": null,
      "grid_auto_columns": null,
      "grid_auto_flow": null,
      "grid_auto_rows": null,
      "grid_column": null,
      "grid_gap": null,
      "grid_row": null,
      "grid_template_areas": null,
      "grid_template_columns": null,
      "grid_template_rows": null,
      "height": null,
      "justify_content": null,
      "justify_items": null,
      "left": null,
      "margin": null,
      "max_height": null,
      "max_width": null,
      "min_height": null,
      "min_width": null,
      "object_fit": null,
      "object_position": null,
      "order": null,
      "overflow": null,
      "overflow_x": null,
      "overflow_y": null,
      "padding": null,
      "right": null,
      "top": null,
      "visibility": null,
      "width": null
     }
    },
    "ef0bee2769e74e3189c8a77c398485f3": {
     "model_module": "@jupyter-widgets/controls",
     "model_name": "HBoxModel",
     "state": {
      "_dom_classes": [],
      "_model_module": "@jupyter-widgets/controls",
      "_model_module_version": "1.5.0",
      "_model_name": "HBoxModel",
      "_view_count": null,
      "_view_module": "@jupyter-widgets/controls",
      "_view_module_version": "1.5.0",
      "_view_name": "HBoxView",
      "box_style": "",
      "children": [
       "IPY_MODEL_ad0e8d3214ca41dbad173c0139a9d54a",
       "IPY_MODEL_5995297de26a4750a30da1eae8a60038"
      ],
      "layout": "IPY_MODEL_6e63f1d19b394bbcb2bd2ef3b10f4407"
     }
    },
    "fd583eda632d48599db84756c5e0367c": {
     "model_module": "@jupyter-widgets/controls",
     "model_name": "ProgressStyleModel",
     "state": {
      "_model_module": "@jupyter-widgets/controls",
      "_model_module_version": "1.5.0",
      "_model_name": "ProgressStyleModel",
      "_view_count": null,
      "_view_module": "@jupyter-widgets/base",
      "_view_module_version": "1.2.0",
      "_view_name": "StyleView",
      "bar_color": null,
      "description_width": "initial"
     }
    }
   }
  }
 },
 "nbformat": 4,
 "nbformat_minor": 1
}
