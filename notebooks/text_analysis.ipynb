{
 "cells": [
  {
   "cell_type": "code",
   "execution_count": 1,
   "metadata": {},
   "outputs": [],
   "source": [
    "import pandas as pd"
   ]
  },
  {
   "cell_type": "code",
   "execution_count": 3,
   "metadata": {},
   "outputs": [],
   "source": [
    "df = pd.read_json('../data/satire_text.json')"
   ]
  },
  {
   "cell_type": "code",
   "execution_count": 6,
   "metadata": {},
   "outputs": [
    {
     "data": {
      "text/html": [
       "<div>\n",
       "<style scoped>\n",
       "    .dataframe tbody tr th:only-of-type {\n",
       "        vertical-align: middle;\n",
       "    }\n",
       "\n",
       "    .dataframe tbody tr th {\n",
       "        vertical-align: top;\n",
       "    }\n",
       "\n",
       "    .dataframe thead th {\n",
       "        text-align: right;\n",
       "    }\n",
       "</style>\n",
       "<table border=\"1\" class=\"dataframe\">\n",
       "  <thead>\n",
       "    <tr style=\"text-align: right;\">\n",
       "      <th></th>\n",
       "      <th>url</th>\n",
       "      <th>headline</th>\n",
       "      <th>image_link</th>\n",
       "      <th>is_satire</th>\n",
       "    </tr>\n",
       "  </thead>\n",
       "  <tbody>\n",
       "    <tr>\n",
       "      <th>0</th>\n",
       "      <td>https://babylonbee.com/news/this-aint-it-chief...</td>\n",
       "      <td>'This Ain’t It, Chief' Updated To 'This Ain’t ...</td>\n",
       "      <td>https://babylonbee.com/img/articles/article-65...</td>\n",
       "      <td>1</td>\n",
       "    </tr>\n",
       "    <tr>\n",
       "      <th>1</th>\n",
       "      <td>https://babylonbee.com/news/announcement-the-b...</td>\n",
       "      <td>Using Our Prophetic Powers For Good: The Babyl...</td>\n",
       "      <td>https://babylonbee.com/img/articles/article-65...</td>\n",
       "      <td>1</td>\n",
       "    </tr>\n",
       "    <tr>\n",
       "      <th>2</th>\n",
       "      <td>https://babylonbee.com/news/study-wearing-a-ma...</td>\n",
       "      <td>Study Finds Connection Between Wearing A Mask ...</td>\n",
       "      <td>https://babylonbee.com/img/articles/article-65...</td>\n",
       "      <td>1</td>\n",
       "    </tr>\n",
       "    <tr>\n",
       "      <th>3</th>\n",
       "      <td>https://babylonbee.com/news/benny-hinn-flies-p...</td>\n",
       "      <td>Benny Hinn Travels To Dagobah To Master His Po...</td>\n",
       "      <td>https://babylonbee.com/img/articles/article-65...</td>\n",
       "      <td>1</td>\n",
       "    </tr>\n",
       "    <tr>\n",
       "      <th>4</th>\n",
       "      <td>https://babylonbee.com/news/white-house-adds-c...</td>\n",
       "      <td>White House Adds Cry Room For Fussy Reporters</td>\n",
       "      <td>https://babylonbee.com/img/articles/article-65...</td>\n",
       "      <td>1</td>\n",
       "    </tr>\n",
       "  </tbody>\n",
       "</table>\n",
       "</div>"
      ],
      "text/plain": [
       "                                                 url  \\\n",
       "0  https://babylonbee.com/news/this-aint-it-chief...   \n",
       "1  https://babylonbee.com/news/announcement-the-b...   \n",
       "2  https://babylonbee.com/news/study-wearing-a-ma...   \n",
       "3  https://babylonbee.com/news/benny-hinn-flies-p...   \n",
       "4  https://babylonbee.com/news/white-house-adds-c...   \n",
       "\n",
       "                                            headline  \\\n",
       "0  'This Ain’t It, Chief' Updated To 'This Ain’t ...   \n",
       "1  Using Our Prophetic Powers For Good: The Babyl...   \n",
       "2  Study Finds Connection Between Wearing A Mask ...   \n",
       "3  Benny Hinn Travels To Dagobah To Master His Po...   \n",
       "4      White House Adds Cry Room For Fussy Reporters   \n",
       "\n",
       "                                          image_link  is_satire  \n",
       "0  https://babylonbee.com/img/articles/article-65...          1  \n",
       "1  https://babylonbee.com/img/articles/article-65...          1  \n",
       "2  https://babylonbee.com/img/articles/article-65...          1  \n",
       "3  https://babylonbee.com/img/articles/article-65...          1  \n",
       "4  https://babylonbee.com/img/articles/article-65...          1  "
      ]
     },
     "execution_count": 6,
     "metadata": {},
     "output_type": "execute_result"
    }
   ],
   "source": [
    "df.head()"
   ]
  },
  {
   "cell_type": "code",
   "execution_count": 5,
   "metadata": {},
   "outputs": [
    {
     "data": {
      "text/plain": [
       "array([1, 0])"
      ]
     },
     "execution_count": 5,
     "metadata": {},
     "output_type": "execute_result"
    }
   ],
   "source": [
    "df['is_satire'].unique()"
   ]
  },
  {
   "cell_type": "code",
   "execution_count": null,
   "metadata": {},
   "outputs": [],
   "source": []
  }
 ],
 "metadata": {
  "kernelspec": {
   "display_name": "Python 3",
   "language": "python",
   "name": "python3"
  },
  "language_info": {
   "codemirror_mode": {
    "name": "ipython",
    "version": 3
   },
   "file_extension": ".py",
   "mimetype": "text/x-python",
   "name": "python",
   "nbconvert_exporter": "python",
   "pygments_lexer": "ipython3",
   "version": "3.7.7"
  }
 },
 "nbformat": 4,
 "nbformat_minor": 4
}
